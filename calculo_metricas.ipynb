{
  "nbformat": 4,
  "nbformat_minor": 0,
  "metadata": {
    "colab": {
      "provenance": []
    },
    "kernelspec": {
      "name": "python3",
      "display_name": "Python 3"
    },
    "language_info": {
      "name": "python"
    }
  },
  "cells": [
    {
      "cell_type": "code",
      "execution_count": 1,
      "metadata": {
        "colab": {
          "base_uri": "https://localhost:8080/"
        },
        "id": "0phBYXnTlqgV",
        "outputId": "402c77c1-7751-449c-b83a-89a7ad1986eb"
      },
      "outputs": [
        {
          "output_type": "stream",
          "name": "stdout",
          "text": [
            "Métricas de Avaliação:\n",
            "Acurácia: 0.86\n",
            "Precisão: 0.83\n",
            "Sensibilidade (Recall): 0.91\n",
            "Especificidade: 0.80\n",
            "F-Score: 0.87\n"
          ]
        }
      ],
      "source": [
        "def calcular_metricas(vp, vn, fp, fn):\n",
        "    \"\"\"\n",
        "    Calcula as principais métricas de avaliação de um modelo de classificação com base nos valores da matriz de confusão.\n",
        "\n",
        "    Parâmetros:\n",
        "        vp (int): Verdadeiros Positivos\n",
        "        vn (int): Verdadeiros Negativos\n",
        "        fp (int): Falsos Positivos\n",
        "        fn (int): Falsos Negativos\n",
        "\n",
        "    Retorna:\n",
        "        dict: Um dicionário contendo as métricas de avaliação.\n",
        "    \"\"\"\n",
        "    # Cálculo das métricas\n",
        "    acuracia = (vp + vn) / (vp + vn + fp + fn) if (vp + vn + fp + fn) > 0 else 0\n",
        "    precisao = vp / (vp + fp) if (vp + fp) > 0 else 0\n",
        "    sensibilidade = vp / (vp + fn) if (vp + fn) > 0 else 0\n",
        "    especificidade = vn / (vn + fp) if (vn + fp) > 0 else 0\n",
        "    f_score = (2 * precisao * sensibilidade) / (precisao + sensibilidade) if (precisao + sensibilidade) > 0 else 0\n",
        "\n",
        "    # Retorna os resultados como um dicionário\n",
        "    return {\n",
        "        \"Acurácia\": acuracia,\n",
        "        \"Precisão\": precisao,\n",
        "        \"Sensibilidade (Recall)\": sensibilidade,\n",
        "        \"Especificidade\": especificidade,\n",
        "        \"F-Score\": f_score\n",
        "    }\n",
        "\n",
        "# Exemplo de uso\n",
        "if __name__ == \"__main__\":\n",
        "    # Valores arbitrários da matriz de confusão\n",
        "    vp = 50  # Verdadeiros Positivos\n",
        "    vn = 40  # Verdadeiros Negativos\n",
        "    fp = 10  # Falsos Positivos\n",
        "    fn = 5   # Falsos Negativos\n",
        "\n",
        "    # Cálculo das métricas\n",
        "    metricas = calcular_metricas(vp, vn, fp, fn)\n",
        "\n",
        "    # Exibição dos resultados\n",
        "    print(\"Métricas de Avaliação:\")\n",
        "    for metrica, valor in metricas.items():\n",
        "        print(f\"{metrica}: {valor:.2f}\")\n"
      ]
    }
  ]
}