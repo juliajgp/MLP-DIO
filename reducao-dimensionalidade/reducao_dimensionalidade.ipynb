{
  "nbformat": 4,
  "nbformat_minor": 0,
  "metadata": {
    "colab": {
      "provenance": []
    },
    "kernelspec": {
      "name": "python3",
      "display_name": "Python 3"
    },
    "language_info": {
      "name": "python"
    }
  },
  "cells": [
    {
      "cell_type": "code",
      "execution_count": 3,
      "metadata": {
        "colab": {
          "base_uri": "https://localhost:8080/"
        },
        "id": "2tCyCGcxitfp",
        "outputId": "add00252-b07f-4bc7-9540-78e903dc4191"
      },
      "outputs": [
        {
          "output_type": "stream",
          "name": "stdout",
          "text": [
            "Processamento concluído. Imagens salva em 'lena_cinza.png' e 'lena_binaria.png'.\n"
          ]
        }
      ],
      "source": [
        "import struct\n",
        "import numpy as np\n",
        "from PIL import Image\n",
        "\n",
        "def carregar_imagem_lena():\n",
        "    # Carrega a imagem Lena no formato TIFF\n",
        "    imagem = Image.open('lena.tiff')\n",
        "    imagem = np.array(imagem)\n",
        "    return imagem\n",
        "\n",
        "def converter_para_cinza(imagem):\n",
        "    # Conversão para escala de cinza usando a fórmula de luminância perceptual\n",
        "    # Cinza = 0.299 * R + 0.587 * G + 0.114 * B\n",
        "    altura, largura, _ = imagem.shape\n",
        "    imagem_cinza = np.zeros((altura, largura), dtype=np.uint8)\n",
        "\n",
        "    for y in range(altura):\n",
        "        for x in range(largura):\n",
        "            r, g, b = imagem[y, x]\n",
        "            imagem_cinza[y, x] = int(0.299 * r + 0.587 * g + 0.114 * b)\n",
        "\n",
        "    return imagem_cinza\n",
        "\n",
        "def binarizar_imagem(imagem_cinza, limiar=128):\n",
        "    # Aplicação de um limiar simples para binarização\n",
        "    altura, largura = imagem_cinza.shape\n",
        "    imagem_binaria = np.zeros((altura, largura), dtype=np.uint8)\n",
        "\n",
        "    for y in range(altura):\n",
        "        for x in range(largura):\n",
        "            imagem_binaria[y, x] = 255 if imagem_cinza[y, x] >= limiar else 0\n",
        "\n",
        "    return imagem_binaria\n",
        "\n",
        "def salvar_imagem(imagem, nome_arquivo):\n",
        "    img = Image.fromarray(imagem)\n",
        "    img.save(nome_arquivo)\n",
        "\n",
        "# Fluxo principal\n",
        "if __name__ == \"__main__\":\n",
        "    try:\n",
        "        # Carrega a imagem original (imagem Lena TIFF)\n",
        "        imagem_colorida = carregar_imagem_lena()\n",
        "\n",
        "        # Converte para escala de cinza\n",
        "        imagem_cinza = converter_para_cinza(imagem_colorida)\n",
        "        salvar_imagem(imagem_cinza, \"lena_cinza.png\")\n",
        "\n",
        "        # Binariza a imagem com um limiar de 128\n",
        "        imagem_binaria = binarizar_imagem(imagem_cinza, limiar=128)\n",
        "        salvar_imagem(imagem_binaria, \"lena_binaria.png\")\n",
        "\n",
        "        print(\"Processamento concluído. Imagens salva em 'lena_cinza.png' e 'lena_binaria.png'.\")\n",
        "    except FileNotFoundError as e:\n",
        "        print(\"Certifique-se de ter o arquivo 'lena.tiff' na pasta correta.\")\n",
        "    except Exception as e:\n",
        "        print(f\"Erro: {e}\")\n"
      ]
    }
  ]
}